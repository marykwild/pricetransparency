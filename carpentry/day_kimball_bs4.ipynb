{
 "cells": [
  {
   "cell_type": "code",
   "execution_count": 15,
   "id": "cffd9ef0",
   "metadata": {},
   "outputs": [],
   "source": [
    "from bs4 import BeautifulSoup\n",
    "import pandas as pd\n",
    "import os\n",
    "import re"
   ]
  },
  {
   "cell_type": "code",
   "execution_count": 4,
   "id": "ba085601",
   "metadata": {},
   "outputs": [
    {
     "data": {
      "text/plain": [
       "'C:\\\\Users\\\\mkwil\\\\Desktop\\\\Reorganized_Price_Transparency'"
      ]
     },
     "execution_count": 4,
     "metadata": {},
     "output_type": "execute_result"
    }
   ],
   "source": [
    "os.chdir(\"C:/Users/mkwil/Desktop/Reorganized_Price_Transparency/\")\n",
    "os.getcwd()"
   ]
  },
  {
   "cell_type": "code",
   "execution_count": 5,
   "id": "7c0a6f58",
   "metadata": {},
   "outputs": [],
   "source": [
    "infile = open(\"files/day-kimball.xml\",\"r\")\n",
    "contents = infile.read()"
   ]
  },
  {
   "cell_type": "code",
   "execution_count": 6,
   "id": "55e6d959",
   "metadata": {},
   "outputs": [
    {
     "data": {
      "text/plain": [
       "18180362"
      ]
     },
     "execution_count": 6,
     "metadata": {},
     "output_type": "execute_result"
    }
   ],
   "source": [
    "len(contents)"
   ]
  },
  {
   "cell_type": "code",
   "execution_count": 7,
   "id": "cd79d299",
   "metadata": {},
   "outputs": [],
   "source": [
    "contents = contents.replace(\"<Dept />\", \"\")\n",
    "contents = contents.replace(\"</QtyType>\\n\", \"</QtyType>\")\n",
    "contents = contents.replace(\"<Contract \", \"<Contract>\")\n",
    "contents = contents.replace(\" />\",\"</Contract>\")"
   ]
  },
  {
   "cell_type": "code",
   "execution_count": 25,
   "id": "2d5428d0",
   "metadata": {},
   "outputs": [],
   "source": [
    "#Reducing size to set up code.\n",
    "#contents = contents[0:100000]"
   ]
  },
  {
   "cell_type": "code",
   "execution_count": 8,
   "id": "9f18f9ff",
   "metadata": {},
   "outputs": [],
   "source": [
    "soup = BeautifulSoup(contents,'xml')"
   ]
  },
  {
   "cell_type": "markdown",
   "id": "7d75004f",
   "metadata": {},
   "source": [
    "#### I don't think you can run find_all twice consecutively like the below. Keeping this cell so I remember."
   ]
  },
  {
   "cell_type": "code",
   "execution_count": 32,
   "id": "8790c450",
   "metadata": {},
   "outputs": [
    {
     "ename": "AttributeError",
     "evalue": "ResultSet object has no attribute 'find_all'. You're probably treating a list of elements like a single element. Did you call find_all() when you meant to call find()?",
     "output_type": "error",
     "traceback": [
      "\u001b[1;31m---------------------------------------------------------------------------\u001b[0m",
      "\u001b[1;31mAttributeError\u001b[0m                            Traceback (most recent call last)",
      "\u001b[1;32m<ipython-input-32-c262a24ce05b>\u001b[0m in \u001b[0;36m<module>\u001b[1;34m\u001b[0m\n\u001b[0;32m      1\u001b[0m \u001b[0mitems\u001b[0m \u001b[1;33m=\u001b[0m \u001b[0msoup\u001b[0m\u001b[1;33m.\u001b[0m\u001b[0mfind_all\u001b[0m\u001b[1;33m(\u001b[0m\u001b[1;34m'Item'\u001b[0m\u001b[1;33m)\u001b[0m\u001b[1;33m\u001b[0m\u001b[1;33m\u001b[0m\u001b[0m\n\u001b[0;32m      2\u001b[0m \u001b[1;31m#contracts = soup.select_one('Contract')\u001b[0m\u001b[1;33m\u001b[0m\u001b[1;33m\u001b[0m\u001b[1;33m\u001b[0m\u001b[0m\n\u001b[1;32m----> 3\u001b[1;33m \u001b[0mcontracts\u001b[0m \u001b[1;33m=\u001b[0m \u001b[0mitems\u001b[0m\u001b[1;33m.\u001b[0m\u001b[0mfind_all\u001b[0m\u001b[1;33m(\u001b[0m\u001b[1;34m'Contract'\u001b[0m\u001b[1;33m)\u001b[0m\u001b[1;33m\u001b[0m\u001b[1;33m\u001b[0m\u001b[0m\n\u001b[0m\u001b[0;32m      4\u001b[0m \u001b[1;31m#contracts\u001b[0m\u001b[1;33m\u001b[0m\u001b[1;33m\u001b[0m\u001b[1;33m\u001b[0m\u001b[0m\n",
      "\u001b[1;32m~\\anaconda3\\lib\\site-packages\\bs4\\element.py\u001b[0m in \u001b[0;36m__getattr__\u001b[1;34m(self, key)\u001b[0m\n\u001b[0;32m   2171\u001b[0m     \u001b[1;32mdef\u001b[0m \u001b[0m__getattr__\u001b[0m\u001b[1;33m(\u001b[0m\u001b[0mself\u001b[0m\u001b[1;33m,\u001b[0m \u001b[0mkey\u001b[0m\u001b[1;33m)\u001b[0m\u001b[1;33m:\u001b[0m\u001b[1;33m\u001b[0m\u001b[1;33m\u001b[0m\u001b[0m\n\u001b[0;32m   2172\u001b[0m         \u001b[1;34m\"\"\"Raise a helpful exception to explain a common code fix.\"\"\"\u001b[0m\u001b[1;33m\u001b[0m\u001b[1;33m\u001b[0m\u001b[0m\n\u001b[1;32m-> 2173\u001b[1;33m         raise AttributeError(\n\u001b[0m\u001b[0;32m   2174\u001b[0m             \u001b[1;34m\"ResultSet object has no attribute '%s'. You're probably treating a list of elements like a single element. Did you call find_all() when you meant to call find()?\"\u001b[0m \u001b[1;33m%\u001b[0m \u001b[0mkey\u001b[0m\u001b[1;33m\u001b[0m\u001b[1;33m\u001b[0m\u001b[0m\n\u001b[0;32m   2175\u001b[0m         )\n",
      "\u001b[1;31mAttributeError\u001b[0m: ResultSet object has no attribute 'find_all'. You're probably treating a list of elements like a single element. Did you call find_all() when you meant to call find()?"
     ]
    }
   ],
   "source": [
    "items = soup.find_all('Item')\n",
    "#contracts = soup.select_one('Contract')\n",
    "contracts = items.find_all('Contract')\n",
    "#contracts"
   ]
  },
  {
   "cell_type": "code",
   "execution_count": 288,
   "id": "39c9dbff",
   "metadata": {},
   "outputs": [],
   "source": [
    "keys_values = []\n",
    "\n",
    "items = soup.find_all('Item')\n",
    "\n",
    "for i in items:\n",
    "    key = str(i)[12:20]\n",
    "    contracts = i.findChildren(\"Contract\")\n",
    "\n",
    "    keys_values.append({\n",
    "        'Code': str(key),\n",
    "        #Otherwise the df will continue to detect this column as a bs4 object.\n",
    "        'Description': str(contracts)\n",
    "    })\n",
    "\n",
    "dk_df = pd.DataFrame(keys_values)"
   ]
  },
  {
   "cell_type": "code",
   "execution_count": 289,
   "id": "063978a1",
   "metadata": {},
   "outputs": [],
   "source": [
    "dk_df = dk_df.assign(Description = dk_df.Description.str.split(',')).explode('Description').reset_index(drop=True)\n",
    "dk_df[['Payor', 'Charge']] = dk_df.Description.str.split('Charge=', expand=True)\n",
    "dk_df = dk_df.drop(columns=['Description'])"
   ]
  },
  {
   "cell_type": "code",
   "execution_count": 305,
   "id": "87efa22d",
   "metadata": {},
   "outputs": [
    {
     "data": {
      "text/html": [
       "<div>\n",
       "<style scoped>\n",
       "    .dataframe tbody tr th:only-of-type {\n",
       "        vertical-align: middle;\n",
       "    }\n",
       "\n",
       "    .dataframe tbody tr th {\n",
       "        vertical-align: top;\n",
       "    }\n",
       "\n",
       "    .dataframe thead th {\n",
       "        text-align: right;\n",
       "    }\n",
       "</style>\n",
       "<table border=\"1\" class=\"dataframe\">\n",
       "  <thead>\n",
       "    <tr style=\"text-align: right;\">\n",
       "      <th></th>\n",
       "      <th>Code</th>\n",
       "      <th>Payor</th>\n",
       "      <th>Charge</th>\n",
       "    </tr>\n",
       "  </thead>\n",
       "  <tbody>\n",
       "    <tr>\n",
       "      <th>0</th>\n",
       "      <td>0191T\"&gt;\\n</td>\n",
       "      <td>[&lt;Contract&gt;Payer=\"AARP MEDICARE COMPLETE\"</td>\n",
       "      <td>\"4375.18\"&lt;/Contract&gt;</td>\n",
       "    </tr>\n",
       "    <tr>\n",
       "      <th>1</th>\n",
       "      <td>0191T\"&gt;\\n</td>\n",
       "      <td>&lt;Contract&gt;Payer=\"Administrative Concts\"</td>\n",
       "      <td>\"1129.32\"&lt;/Contract&gt;</td>\n",
       "    </tr>\n",
       "    <tr>\n",
       "      <th>2</th>\n",
       "      <td>0191T\"&gt;\\n</td>\n",
       "      <td>&lt;Contract&gt;Payer=\"AETNA\"</td>\n",
       "      <td>\"1262.72\"&lt;/Contract&gt;</td>\n",
       "    </tr>\n",
       "    <tr>\n",
       "      <th>3</th>\n",
       "      <td>0191T\"&gt;\\n</td>\n",
       "      <td>&lt;Contract&gt;Payer=\"AETNA MEDICAE ADANTAGE \"</td>\n",
       "      <td>\"4375.18\"&lt;/Contract&gt;</td>\n",
       "    </tr>\n",
       "    <tr>\n",
       "      <th>4</th>\n",
       "      <td>0191T\"&gt;\\n</td>\n",
       "      <td>&lt;Contract&gt;Payer=\"AETNA/AETNA\"</td>\n",
       "      <td>\"1262.72\"&lt;/Contract&gt;</td>\n",
       "    </tr>\n",
       "  </tbody>\n",
       "</table>\n",
       "</div>"
      ],
      "text/plain": [
       "        Code                                        Payor  \\\n",
       "0  0191T\">\\n   [<Contract>Payer=\"AARP MEDICARE COMPLETE\"    \n",
       "1  0191T\">\\n     <Contract>Payer=\"Administrative Concts\"    \n",
       "2  0191T\">\\n                     <Contract>Payer=\"AETNA\"    \n",
       "3  0191T\">\\n   <Contract>Payer=\"AETNA MEDICAE ADANTAGE \"    \n",
       "4  0191T\">\\n               <Contract>Payer=\"AETNA/AETNA\"    \n",
       "\n",
       "                 Charge  \n",
       "0  \"4375.18\"</Contract>  \n",
       "1  \"1129.32\"</Contract>  \n",
       "2  \"1262.72\"</Contract>  \n",
       "3  \"4375.18\"</Contract>  \n",
       "4  \"1262.72\"</Contract>  "
      ]
     },
     "execution_count": 305,
     "metadata": {},
     "output_type": "execute_result"
    }
   ],
   "source": [
    "dk_df.head()"
   ]
  },
  {
   "cell_type": "code",
   "execution_count": 307,
   "id": "7859bbfe",
   "metadata": {
    "scrolled": false
   },
   "outputs": [],
   "source": [
    "#Writing so I can do needed carpentry in R.\n",
    "dk_df.to_csv('day_kimball.csv',index=False)"
   ]
  },
  {
   "cell_type": "code",
   "execution_count": null,
   "id": "308774cb",
   "metadata": {},
   "outputs": [],
   "source": []
  },
  {
   "cell_type": "code",
   "execution_count": 55,
   "id": "942607a1",
   "metadata": {},
   "outputs": [],
   "source": [
    "keys_values = []\n",
    "\n",
    "items = soup.find_all('Item')\n",
    "\n",
    "for i in items:\n",
    "    key = str(i)[12:20]\n",
    "    cash = i.findChildren(\"DiscountCashCharge\")\n",
    "    minRate = i.findChildren(\"MinNegotiatedCharge\")\n",
    "    maxRate = i.findChildren(\"MaxNegotiatedCharge\")\n",
    "\n",
    "    keys_values.append({\n",
    "        'Code': str(key).replace(\">\\n\",\"\"),\n",
    "        #Otherwise the df will continue to detect this column as a bs4 object.\n",
    "        'cashPrice': re.sub(\"<.DiscountCashCharge>]\", \"\", str(cash)).replace(\",\", \"\"),\n",
    "        'minRate': re.sub(\"<.MinNegotiatedCharge>]\", \"\", str(minRate)).replace(\",\", \"\"),\n",
    "        'maxRate': re.sub(\"<.MaxNegotiatedCharge>]\", \"\", str(maxRate)).replace(\",\", \"\")\n",
    "    })\n",
    "\n",
    "dk_df = pd.DataFrame(keys_values)"
   ]
  },
  {
   "cell_type": "code",
   "execution_count": 56,
   "id": "579a4a2a",
   "metadata": {},
   "outputs": [
    {
     "name": "stderr",
     "output_type": "stream",
     "text": [
      "<ipython-input-56-ffa66872bdb5>:1: FutureWarning: The default value of regex will change from True to False in a future version.\n",
      "  dk_df['cashPrice'] = dk_df['cashPrice'].str.replace(\"\\\\[<DiscountCashCharge>\", \"\")\n",
      "<ipython-input-56-ffa66872bdb5>:2: FutureWarning: The default value of regex will change from True to False in a future version.\n",
      "  dk_df['minRate'] = dk_df['minRate'].str.replace(\"\\\\[<MinNegotiatedCharge>\", \"\")\n",
      "<ipython-input-56-ffa66872bdb5>:3: FutureWarning: The default value of regex will change from True to False in a future version.\n",
      "  dk_df['maxRate'] = dk_df['maxRate'].str.replace(\"\\\\[<MaxNegotiatedCharge>\", \"\")\n",
      "<ipython-input-56-ffa66872bdb5>:4: FutureWarning: The default value of regex will change from True to False in a future version.\n",
      "  dk_df['Code'] = dk_df['Code'].str.replace('\\\\\"', \"\")\n"
     ]
    }
   ],
   "source": [
    "dk_df['cashPrice'] = dk_df['cashPrice'].str.replace(\"\\\\[<DiscountCashCharge>\", \"\")\n",
    "dk_df['minRate'] = dk_df['minRate'].str.replace(\"\\\\[<MinNegotiatedCharge>\", \"\")\n",
    "dk_df['maxRate'] = dk_df['maxRate'].str.replace(\"\\\\[<MaxNegotiatedCharge>\", \"\")\n",
    "dk_df['Code'] = dk_df['Code'].str.replace('\\\\\"', \"\")\n"
   ]
  },
  {
   "cell_type": "code",
   "execution_count": 57,
   "id": "c0aacaf2",
   "metadata": {
    "scrolled": true
   },
   "outputs": [
    {
     "data": {
      "text/html": [
       "<div>\n",
       "<style scoped>\n",
       "    .dataframe tbody tr th:only-of-type {\n",
       "        vertical-align: middle;\n",
       "    }\n",
       "\n",
       "    .dataframe tbody tr th {\n",
       "        vertical-align: top;\n",
       "    }\n",
       "\n",
       "    .dataframe thead th {\n",
       "        text-align: right;\n",
       "    }\n",
       "</style>\n",
       "<table border=\"1\" class=\"dataframe\">\n",
       "  <thead>\n",
       "    <tr style=\"text-align: right;\">\n",
       "      <th></th>\n",
       "      <th>Code</th>\n",
       "      <th>cashPrice</th>\n",
       "      <th>minRate</th>\n",
       "      <th>maxRate</th>\n",
       "    </tr>\n",
       "  </thead>\n",
       "  <tbody>\n",
       "    <tr>\n",
       "      <th>0</th>\n",
       "      <td>0191T</td>\n",
       "      <td>592.89</td>\n",
       "      <td>846.99</td>\n",
       "      <td>4375.18</td>\n",
       "    </tr>\n",
       "    <tr>\n",
       "      <th>1</th>\n",
       "      <td>0241U</td>\n",
       "      <td>126.00</td>\n",
       "      <td>154.41</td>\n",
       "      <td>300.00</td>\n",
       "    </tr>\n",
       "    <tr>\n",
       "      <th>2</th>\n",
       "      <td>0376T</td>\n",
       "      <td>592.89</td>\n",
       "      <td>846.99</td>\n",
       "      <td>1411.65</td>\n",
       "    </tr>\n",
       "    <tr>\n",
       "      <th>3</th>\n",
       "      <td>0449T</td>\n",
       "      <td>1778.68</td>\n",
       "      <td>2540.98</td>\n",
       "      <td>4375.18</td>\n",
       "    </tr>\n",
       "    <tr>\n",
       "      <th>4</th>\n",
       "      <td>10005</td>\n",
       "      <td>726.93</td>\n",
       "      <td>694.59</td>\n",
       "      <td>1730.78</td>\n",
       "    </tr>\n",
       "  </tbody>\n",
       "</table>\n",
       "</div>"
      ],
      "text/plain": [
       "    Code cashPrice  minRate  maxRate\n",
       "0  0191T    592.89   846.99  4375.18\n",
       "1  0241U    126.00   154.41   300.00\n",
       "2  0376T    592.89   846.99  1411.65\n",
       "3  0449T   1778.68  2540.98  4375.18\n",
       "4  10005    726.93   694.59  1730.78"
      ]
     },
     "execution_count": 57,
     "metadata": {},
     "output_type": "execute_result"
    }
   ],
   "source": [
    "dk_df.head()"
   ]
  },
  {
   "cell_type": "code",
   "execution_count": 59,
   "id": "0e1a0c59",
   "metadata": {},
   "outputs": [],
   "source": [
    "dk_df.to_csv('self_pay_files/daykimball_cash.csv', index = False)"
   ]
  }
 ],
 "metadata": {
  "kernelspec": {
   "display_name": "Python 3",
   "language": "python",
   "name": "python3"
  },
  "language_info": {
   "codemirror_mode": {
    "name": "ipython",
    "version": 3
   },
   "file_extension": ".py",
   "mimetype": "text/x-python",
   "name": "python",
   "nbconvert_exporter": "python",
   "pygments_lexer": "ipython3",
   "version": "3.8.8"
  }
 },
 "nbformat": 4,
 "nbformat_minor": 5
}
